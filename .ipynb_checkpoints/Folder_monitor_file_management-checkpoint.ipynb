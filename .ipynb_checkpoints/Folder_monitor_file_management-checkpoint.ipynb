{
 "cells": [
  {
   "cell_type": "code",
   "execution_count": null,
   "id": "3df5265c-50d6-49a3-8cdd-169836aea948",
   "metadata": {},
   "outputs": [],
   "source": [
    "import os\n",
    "import time\n",
    "import schedule\n",
    "from watchdog.observers import Observer \n",
    "from watchdog.events import FileSystemEventHandler, FileCreatedEvent\n",
    "import pandas as pd\n",
    "import shutil\n",
    "import re\n",
    "from xls2xlsx import XLS2XLSX\n"
   ]
  },
  {
   "cell_type": "code",
   "execution_count": null,
   "id": "691e24d4-cd3a-43d2-b791-e8322883eb48",
   "metadata": {},
   "outputs": [],
   "source": [
    "# define the path you want to monitor and the destination path if you want to move the upcoming files\n",
    "path_to_watch='C:/Users/..'\n",
    "path_to_dest='C:/Users/dest_eg..'"
   ]
  },
  {
   "cell_type": "code",
   "execution_count": null,
   "id": "edbc210e-d125-4860-ace6-7b004e0b4ed1",
   "metadata": {},
   "outputs": [],
   "source": [
    "# we will deal with two cases:\n",
    "# 1. the name pattern of the upcoming file is fixed and you simply need to move it\n",
    "# 2. the name of the upcoming file is also fixed, but you need to transform it before move it to the destination. \n",
    "#    Here are two example cases: convert csv and xls to xlsx format.\n",
    "\n",
    "\n",
    "name_patterns = {r'^file_\\d{8}.*.xlsx$':'new_name.xlsx',\n",
    "                'pattern_2':'new_name2'\n",
    "                }\n",
    "special_case = [r'^file.*.csv$',\n",
    "                r'^file.*.xls$'\n",
    "               ]"
   ]
  },
  {
   "cell_type": "code",
   "execution_count": null,
   "id": "dd61a99e-9a57-42ea-ab3d-8b142691415b",
   "metadata": {},
   "outputs": [],
   "source": [
    "class MyHandler(FileSystemEventHandler):\n",
    "    def on_created(self, event):\n",
    "        if event.is_directory:\n",
    "            return\n",
    "        src_file=event.src_path\n",
    "        dest_folder=path_to_dest\n",
    "        original_file_name=os.path.basename(src_file)\n",
    "\n",
    "        if re.match(special_case[0], original_file_name):\n",
    "            new_file_name = 'new_file_name_1.xlsx'\n",
    "            df = pd.read_csv(src_file, sep='|')\n",
    "            df.to_excel(os.path.join(path_to_watch, new_file_name), sheet_name='New_sheet', index=None, header=True)\n",
    "            shutil.move(os.path.join(path_to_watch, new_file_name), os.path.join(path_to_dest, new_file_name))\n",
    "\n",
    "        elif re.match(special_case[1], original_file_name):\n",
    "            original_xls = XLS2XLSX(src_file)\n",
    "            new_xlsx_name = 'new_file_name_2.xlsx'\n",
    "            new_xlsx_path = os.path.join(path_to_watch, new_xlsx_name)\n",
    "            new_xlsx = original_xls.to_xlsx(new_xlsx_path)\n",
    "            shutil.move(new_xlsx_path, os.join.path(path_to_dest, new_xlsx_name))\n",
    "            \n",
    "\n",
    "        for pattern, new_name in name_patterns:\n",
    "            if re.match(pattern, original_file_name):\n",
    "                new_file_name=new_name\n",
    "                shutil.move(src_file, os.path.join(dest_folder, new_file_name))\n",
    "                \n",
    "# the following code makes sure that if some files are already added before we run the code, we simulate all these files as just created/ added\n",
    "    \n",
    "    def process_existing_files(self, path_to_watch):\n",
    "        for filename in os.listdir(path_to_watch):\n",
    "            file_path = os.path.join(path_to_watch, filename)\n",
    "            if os.path.isfile(file_path):\n",
    "                event = FileCreatedEvent(file_path)\n",
    "                self.on_created(event)\n",
    "\n",
    "\n",
    "        "
   ]
  },
  {
   "cell_type": "code",
   "execution_count": null,
   "id": "974053d9-0a41-4e99-8657-c5c009d3f759",
   "metadata": {},
   "outputs": [],
   "source": [
    "def run_observer(path_to_watch):\n",
    "    event_handler = MyHandler()\n",
    "    event_handler.process_existing_files(path_to_watch)\n",
    "    observer = Observer()\n",
    "    observer.schedule(event_handler, path_to_watch, recursive=False)\n",
    "    observer.start()\n",
    "    try:\n",
    "        while True:\n",
    "            time.sleep(1)\n",
    "    except KeyboardInterrupt:\n",
    "        observer.stop()\n",
    "        observer.join()\n",
    "\n",
    "run_observer(path_to_watch)\n",
    "\n",
    "\n",
    "#--------------------------------------------------------------------#\n",
    "\n",
    "# If you don't want to monitor the folder all the time, you can alternatively, monitor the file every, say, 15 minutes using the following code snippet. \n",
    "# At the same time, please also comment out the above code from try till run_observer(path_to_watch)\n",
    "\n",
    "\n",
    "#------------------- Monitor with time interval ---------------------#\n",
    "\n",
    "#schedule.every(15).minutes.do(run_observer, path_to_watch)\n",
    "#try:\n",
    "#    while True:\n",
    "#        time.sleep(1)\n",
    "#except KeyboardInterrupt:\n",
    "#    pass"
   ]
  },
  {
   "cell_type": "code",
   "execution_count": null,
   "id": "23288d74-194a-4341-be63-ac427f58e0d7",
   "metadata": {},
   "outputs": [],
   "source": []
  }
 ],
 "metadata": {
  "kernelspec": {
   "display_name": "Python 3 (ipykernel)",
   "language": "python",
   "name": "python3"
  },
  "language_info": {
   "codemirror_mode": {
    "name": "ipython",
    "version": 3
   },
   "file_extension": ".py",
   "mimetype": "text/x-python",
   "name": "python",
   "nbconvert_exporter": "python",
   "pygments_lexer": "ipython3",
   "version": "3.10.4"
  }
 },
 "nbformat": 4,
 "nbformat_minor": 5
}
